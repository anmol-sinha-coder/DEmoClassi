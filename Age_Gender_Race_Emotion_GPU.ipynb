{
  "nbformat": 4,
  "nbformat_minor": 0,
  "metadata": {
    "colab": {
      "name": "Age-Gender-Race-Emotion-GPU.ipynb",
      "private_outputs": true,
      "provenance": [],
      "authorship_tag": "ABX9TyPwHbDIexChddZK3w7swR5a",
      "include_colab_link": true
    },
    "kernelspec": {
      "name": "python3",
      "display_name": "Python 3"
    },
    "accelerator": "GPU"
  },
  "cells": [
    {
      "cell_type": "markdown",
      "metadata": {
        "id": "view-in-github",
        "colab_type": "text"
      },
      "source": [
        "<a href=\"https://colab.research.google.com/github/anmol-sinha-coder/DEmoClassi/blob/master/Age_Gender_Race_Emotion_GPU.ipynb\" target=\"_parent\"><img src=\"https://colab.research.google.com/assets/colab-badge.svg\" alt=\"Open In Colab\"/></a>"
      ]
    },
    {
      "cell_type": "code",
      "metadata": {
        "id": "zaLGd4LKQfpu"
      },
      "source": [
        "! git clone https://github.com/anmol-sinha-coder/DEmoClassi.git\n",
        "! cp -r DEmoClassi/* .\n",
        "! pip install tensorboardX pytorch-ignite kaggle"
      ],
      "execution_count": null,
      "outputs": []
    },
    {
      "cell_type": "code",
      "metadata": {
        "id": "g--abrgzUbl3"
      },
      "source": [
        ""
      ],
      "execution_count": null,
      "outputs": []
    },
    {
      "cell_type": "code",
      "metadata": {
        "id": "yyilh9MmRaqB"
      },
      "source": [
        "import torch\n",
        "import torchvision.transforms as transforms\n",
        "\n",
        "from vision_utils.custom_torch_utils import load_model\n",
        "from vision_utils.custom_architectures import SepConvModelMT, SepConvModel, initialize_model\n",
        "\n",
        "from emotion_detection.evaluate import evaluate_model as eval_fer\n",
        "from emotion_detection.fer_data_utils import get_fer_dataloader\n",
        "from emotion_detection.train import run_fer\n",
        "\n",
        "from multitask_rag.train import run_utk\n",
        "from multitask_rag.utk_data_utils import get_utk_dataloader\n",
        "from multitask_rag.evaluate import evaluate_model as eval_utk\n",
        "from multitask_rag.utk_data_utils import display_examples_utk\n",
        "\n",
        "import pandas as pd\n",
        "import glob\n",
        "import os\n",
        "import random"
      ],
      "execution_count": null,
      "outputs": []
    },
    {
      "cell_type": "code",
      "metadata": {
        "id": "0C1YK47XQ_Qe"
      },
      "source": [
        "! kaggle competitions download -c challenges-in-representation-learning-facial-expression-recognition-challenge"
      ],
      "execution_count": null,
      "outputs": []
    },
    {
      "cell_type": "code",
      "metadata": {
        "id": "fainKgbgWvAV"
      },
      "source": [
        ""
      ],
      "execution_count": null,
      "outputs": []
    }
  ]
}